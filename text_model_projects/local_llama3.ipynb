{
  "nbformat": 4,
  "nbformat_minor": 0,
  "metadata": {
    "colab": {
      "provenance": []
    },
    "kernelspec": {
      "name": "python3",
      "display_name": "Python 3"
    },
    "language_info": {
      "name": "python"
    }
  },
  "cells": [
    {
      "cell_type": "code",
      "source": [
        "# You must run this notebook locally after creating an LMStudio Server (download it here):\n",
        "# https://lmstudio.ai/"
      ],
      "metadata": {
        "id": "1sUma4NzhjKF"
      },
      "execution_count": null,
      "outputs": []
    },
    {
      "cell_type": "code",
      "execution_count": null,
      "metadata": {
        "id": "oEWUeBI_ekgz"
      },
      "outputs": [],
      "source": [
        "%pip install langchain langchain_openai --upgrade"
      ]
    },
    {
      "cell_type": "code",
      "source": [
        "from langchain_core.messages import SystemMessage, HumanMessage\n",
        "from langchain_openai import ChatOpenAI\n",
        "from langchain.output_parsers import PydanticOutputParser\n",
        "from langchain_core.pydantic_v1 import Field, BaseModel\n",
        "from typing import List"
      ],
      "metadata": {
        "id": "JamJO3FQezRt"
      },
      "execution_count": null,
      "outputs": []
    },
    {
      "cell_type": "code",
      "source": [
        "import os\n",
        "os.environ['OPENAI_API_KEY'] = 'API_KEY_HERE'"
      ],
      "metadata": {
        "id": "Z4dKbVyUe3EA"
      },
      "execution_count": null,
      "outputs": []
    },
    {
      "cell_type": "code",
      "source": [
        "# Article Outline using Pydantic Models:\n",
        "class ArticleSectionOutline(BaseModel):\n",
        "    title: str = Field(description=\"The title of the section\")\n",
        "\n",
        "class ArticleOutline(BaseModel):\n",
        "    title: str = Field(description=\"The title of the article\")\n",
        "    sections: List[ArticleSectionOutline] = Field(description=\"All of the sections of the article\")\n",
        "\n",
        "parser = PydanticOutputParser(pydantic_object=ArticleOutline)\n",
        "format_instructions = parser.get_format_instructions()\n",
        "\n",
        "llm: ChatOpenAI = ChatOpenAI(\n",
        "    base_url=\"http://localhost:1234/v1\",\n",
        "    temperature=0,\n",
        "    api_key=\"not-needed\",\n",
        "    model_kwargs={\"stop\": ['```']},\n",
        ")\n",
        "\n",
        "article_plan = llm.invoke(\n",
        "    [\n",
        "        SystemMessage(\n",
        "            content=f\"\"\"Act as a SEO specialist.\n",
        "                  You are very specialised in generating highly optimized SEO briefs for content marketers.\n",
        "                  You must respond in JSON format only\n",
        "                  {format_instructions}\n",
        "\n",
        "                  You must finish it with }} ```\n",
        "                  \"\"\"\n",
        "        ),\n",
        "        HumanMessage(\n",
        "            content=\"\"\"I want you to generate an effective article plan for me on Digital Marketing\n",
        "            \\n```\"\"\"\n",
        "        ),\n",
        "    ]\n",
        ")"
      ],
      "metadata": {
        "id": "9OnW5w9we8ED"
      },
      "execution_count": null,
      "outputs": []
    },
    {
      "cell_type": "code",
      "source": [
        "article_outline = parser.parse(article_plan.content)"
      ],
      "metadata": {
        "id": "acNeN2eZe-Cv"
      },
      "execution_count": null,
      "outputs": []
    },
    {
      "cell_type": "code",
      "source": [
        "print(article_outline.sections)"
      ],
      "metadata": {
        "id": "EfNSBARVe_Rm"
      },
      "execution_count": null,
      "outputs": []
    },
    {
      "cell_type": "markdown",
      "source": [
        "## Additional Resources For JSON Parsing:\n",
        "\n",
        "- https://github.com/noamgat/lm-format-enforcer\n",
        "- https://github.com/ollama/ollama/tree/main/examples/python-json-datagenerator"
      ],
      "metadata": {
        "id": "djpuXEoZfEzW"
      }
    }
  ]
}