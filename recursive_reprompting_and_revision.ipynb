{
  "cells": [
    {
      "cell_type": "markdown",
      "metadata": {
        "id": "FjTUqNDq-cVN"
      },
      "source": [
        "Source: https://arxiv.org/pdf/2210.06774.pdf"
      ]
    },
    {
      "cell_type": "code",
      "execution_count": null,
      "metadata": {
        "id": "1lDDowVHfzd9"
      },
      "outputs": [],
      "source": [
        "%pip install openai --upgrade"
      ]
    },
    {
      "cell_type": "code",
      "execution_count": null,
      "metadata": {
        "id": "-DcnuHyv3lKx"
      },
      "outputs": [],
      "source": [
        "# Get the openai secret key\n",
        "import getpass\n",
        "from openai import OpenAI\n",
        "\n",
        "secret_key = getpass.getpass(\"Please enter your openai key: \")"
      ]
    },
    {
      "cell_type": "code",
      "execution_count": null,
      "metadata": {
        "id": "zTTAw81O6xs0"
      },
      "outputs": [],
      "source": [
        "# OpenAI set up:\n",
        "client = OpenAI()\n",
        "client.api_key = secret_key\n",
        "\n",
        "def complete(prompt, stop=None):\n",
        "    response = client.chat.completions.create(\n",
        "        model=\"gpt-4\",\n",
        "        messages=[\n",
        "            {\n",
        "            \"role\": \"user\",\n",
        "            \"content\": prompt\n",
        "            }\n",
        "        ],\n",
        "        stop=stop\n",
        "    )\n",
        "    return response.choices[0].message.content\n",
        "\n",
        "complete(\"is this working?\")"
      ]
    },
    {
      "cell_type": "code",
      "execution_count": null,
      "metadata": {
        "id": "CAZ73OYK83Lb"
      },
      "outputs": [],
      "source": [
        "# Add your premise:\n",
        "premise_input = \"A new law grad returns home to start her career, but struggles with the broken justice system.\" #@param {type:\"string\"}\n",
        "premise = f\"Premise: {premise_input}\"\n",
        "premise"
      ]
    },
    {
      "cell_type": "markdown",
      "metadata": {
        "id": "f1U0BFvp4nmv"
      },
      "source": [
        "## Plan Module"
      ]
    },
    {
      "cell_type": "code",
      "execution_count": null,
      "metadata": {
        "id": "ZIS1VmaT9WkP"
      },
      "outputs": [],
      "source": [
        "# Setting:\n",
        "setting_prompt = f\"{premise}\\nThe story is set in\"\n",
        "setting_response = complete(setting_prompt, stop=[\".\"])\n",
        "setting = f\"Setting: The story is set in {setting_response}.\"\n",
        "setting"
      ]
    },
    {
      "cell_type": "code",
      "execution_count": null,
      "metadata": {
        "id": "1jRbxxbD92qi"
      },
      "outputs": [],
      "source": [
        "# Characters\n",
        "num_characters = 2\n",
        "characters = \"\"\n",
        "character_format = \"Please invent characters for this story, in the format of [name] is [context]. For example 'Liza Turner is a 22-year-old woman' or 'Peyton Turner is Liza's older sister'. Each character is distinct and does not reuse the same name as these examples.\"\n",
        "character_prompt = f\"Premise: {premise}\\n\\nSetting: {setting}\\n\\n{character_format}\\n\\n\"\n",
        "for n in range(num_characters):\n",
        "    character_prompt += f\"{n+1}. Character Portrait:\\n\"\n",
        "    character_response = complete(f\"{character_prompt}\\n\\n{n+1}. Character Portrait:\\n\", stop=[\".\"])\n",
        "    character_prompt += f\"{character_response}\\n\\n\"\n",
        "    characters += f\"{n+1}. Character Portrait:\\n{character_response.strip()}.\\n\\n\"\n",
        "\n",
        "print(characters)"
      ]
    },
    {
      "cell_type": "code",
      "execution_count": null,
      "metadata": {
        "id": "0tDLXTdH4q7W"
      },
      "outputs": [],
      "source": [
        "# Plot\n",
        "plot_prompt = f\"{premise}\\n\\n{setting}\\n\\n{characters}Outline the main plot points of the story.\\n1.\"\n",
        "plot_response = complete(plot_prompt)\n",
        "plot = f\"{plot_response}\"\n",
        "print(\"Outline the main plot points of the story\\n\\n1. \", plot)"
      ]
    },
    {
      "cell_type": "code",
      "execution_count": null,
      "metadata": {
        "id": "1J1TKVbhCGeV"
      },
      "outputs": [],
      "source": [
        "# Full Plan Module\n",
        "print(f\"{premise}\\n\\n{setting}\\n\\n{characters}\\n\\nOutline the main plot points of the story\\n\\n1. {plot}\")"
      ]
    },
    {
      "cell_type": "markdown",
      "metadata": {
        "id": "vGPO-P0hHHUn"
      },
      "source": [
        "## Draft Module"
      ]
    },
    {
      "cell_type": "code",
      "execution_count": null,
      "metadata": {
        "id": "yWrnj231HKFH"
      },
      "outputs": [],
      "source": [
        "import re\n",
        "\n",
        "plot_points_raw = plot.split('\\n')\n",
        "plot_points = []\n",
        "\n",
        "for pp in plot_points_raw:\n",
        "    if pp == '':\n",
        "        continue\n",
        "    else:\n",
        "        stripped_pp = re.sub(r'^\\d+\\.\\s*', '', pp)\n",
        "        plot_points.append(stripped_pp)\n",
        "\n",
        "print(plot_points)"
      ]
    },
    {
      "cell_type": "code",
      "execution_count": null,
      "metadata": {
        "id": "JYlKOW_iHie2"
      },
      "outputs": [],
      "source": [
        "drafts = []\n",
        "\n",
        "for idx in range(len(plot_points)):\n",
        "    if idx == 0:\n",
        "        previous = \"\"\n",
        "        immediately = \"\"\n",
        "    else:\n",
        "        previous = f\"Previous story summary:\\n{plot_points[idx-1]}\"\n",
        "        immediately = f\"Immediately before the current passage:\\n{drafts[idx-1]}\"\n",
        "\n",
        "    upcoming = f\"In the upcoming passage,\\n{plot_points[idx]}\"\n",
        "\n",
        "    draft_prompt = f\"Relevant context:\\n{characters}{previous}\\n\\n{immediately}\\n\\n{upcoming}\\n\\nFull text below:\"\n",
        "\n",
        "    draft_response = complete(draft_prompt)\n",
        "    draft_response = draft_response.strip()\n",
        "\n",
        "    print(f\"Plot Point {idx+1}\\n-----\\n\", draft_prompt, f\"\\n{draft_response}\\n-----\\n\\n\")\n",
        "    drafts.append(draft_response)"
      ]
    },
    {
      "cell_type": "code",
      "execution_count": null,
      "metadata": {
        "id": "iX-_LsK5PjYR"
      },
      "outputs": [],
      "source": [
        "print(\"\".join(drafts))"
      ]
    },
    {
      "cell_type": "markdown",
      "metadata": {
        "id": "sM3nQ26xQIzm"
      },
      "source": [
        "## Revision"
      ]
    },
    {
      "cell_type": "code",
      "execution_count": null,
      "metadata": {
        "id": "p8qMKWLKQIjH"
      },
      "outputs": [],
      "source": [
        "# Progressive extraction\n",
        "facts = []\n",
        "edits = []\n",
        "for idx in range(1, len(drafts)):\n",
        "    # Old Facts\n",
        "    facts_prompt = f\"What facts can be inferred from this text?\\n\\nText:\\n{drafts[idx-1]}\\n\\nFacts:\\n-\"\n",
        "    facts_response = complete(facts_prompt)\n",
        "    facts_response = facts_response.strip()\n",
        "    facts.append(facts_response)\n",
        "\n",
        "    # New Facts\n",
        "    facts_prompt = f\"What facts can be inferred from this text?\\n\\nText:\\n{drafts[idx]}\\n\\nFacts:\\n-\"\n",
        "    facts_response = complete(facts_prompt)\n",
        "    facts_response = facts_response.strip()\n",
        "\n",
        "    # Consistency\n",
        "    joined_facts = \"\\n\".join(facts)\n",
        "    consistency_prompt = f\"Are any New Facts inconsistent with Old Facts?:\\n\\Old facts:\\n{joined_facts}\\n\\nNew facts:{facts_response}\\n\\nInconsistencies:\\n-\"\n",
        "    consistency_response = complete(consistency_prompt)\n",
        "\n",
        "    # Rewriting\n",
        "    edit_prompt = f\"Edit so that any inconsistencies are addressed:\\nInconsistencies:{consistency_response}\\n\\nText:{drafts[idx]}\\n\\nRewritten Text:\"\n",
        "    edit_response = complete(edit_prompt)\n",
        "    edit_response = edit_response.strip()\n",
        "    edits.append(edit_response)\n",
        "\n",
        "    print(f\"Draft Text {idx+1}\\n-----\\n\", drafts[idx], f\"\\n\\nOld Facts:\\n{joined_facts}\", f\"\\n\\nNew Facts:\\n{facts_response}\", f\"\\n\\nConsistency:\\n{consistency_response}\", f\"\\n\\nRewritten Text:\\n{edit_response}\\n-----\\n\\n\")\n"
      ]
    },
    {
      "cell_type": "code",
      "execution_count": null,
      "metadata": {
        "id": "zY0iQZw8V1Vz"
      },
      "outputs": [],
      "source": [
        "\"/n\".join(edits)"
      ]
    }
  ],
  "metadata": {
    "colab": {
      "provenance": []
    },
    "kernelspec": {
      "display_name": "Python 3",
      "name": "python3"
    },
    "language_info": {
      "codemirror_mode": {
        "name": "ipython",
        "version": 3
      },
      "file_extension": ".py",
      "mimetype": "text/x-python",
      "name": "python",
      "nbconvert_exporter": "python",
      "pygments_lexer": "ipython3",
      "version": "3.9.13"
    }
  },
  "nbformat": 4,
  "nbformat_minor": 0
}