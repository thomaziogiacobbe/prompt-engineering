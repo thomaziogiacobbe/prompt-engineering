{
  "cells": [
    {
      "cell_type": "code",
      "execution_count": null,
      "metadata": {
        "id": "LwQdDc-hloPZ",
        "outputId": "b2365872-c404-4345-b556-64e11a00c5ef"
      },
      "outputs": [],
      "source": [
        "%pip install langchain langchain_openai langchain_elasticsearch faiss-cpu langchain-community --upgrade"
      ]
    },
    {
      "cell_type": "code",
      "execution_count": null,
      "metadata": {
        "id": "w3nDgBhploPa"
      },
      "outputs": [],
      "source": [
        "from langchain_community.document_loaders import TextLoader\n",
        "from langchain_openai import OpenAIEmbeddings\n",
        "from langchain_text_splitters import CharacterTextSplitter\n",
        "from langchain_community.vectorstores.faiss import FAISS"
      ]
    },
    {
      "cell_type": "code",
      "execution_count": null,
      "metadata": {
        "id": "5GFz9sWBloPb"
      },
      "outputs": [],
      "source": [
        "import os\n",
        "os.environ[\"OPENAI_API_KEY\"] = \"API_KEY_HERE\""
      ]
    },
    {
      "cell_type": "code",
      "execution_count": null,
      "metadata": {
        "id": "6uoiq9sTloPb"
      },
      "outputs": [],
      "source": [
        "raw_text = \"\"\"\n",
        "Digital marketing encompasses a broad range of marketing activities that utilize digital channels to connect with customers. At its core, digital marketing aims to reach a targeted audience through various online and electronic means, including social media, email, search engines, and websites. Unlike traditional marketing methods, digital marketing offers unparalleled opportunities for businesses to engage with their audience in real-time, enabling personalized communication and immediate feedback. This real-time interaction not only enhances customer experience but also allows businesses to gather valuable data on consumer behaviors, preferences, and trends, facilitating more effective marketing strategies and campaigns.\n",
        "The rise of digital marketing can be attributed to the increasing reliance on the internet and digital devices by consumers. As more people spend time online, businesses have shifted their marketing efforts to where their audiences are. Digital marketing leverages this online presence, employing strategies such as search engine optimization (SEO), content marketing, pay-per-click (PPC) advertising, and social media marketing to improve visibility and attract potential customers. These strategies are designed to increase traffic to a company's online platforms, build brand awareness, and ultimately drive conversions and sales. The ability to measure the effectiveness of these strategies through analytics and metrics further underscores the advantage of digital marketing, enabling businesses to refine their approach and maximize return on investment (ROI).\n",
        "\"\"\"\n",
        "\n",
        "with open(\"test.txt\", \"w\") as f:\n",
        "    f.write(raw_text)"
      ]
    },
    {
      "cell_type": "code",
      "execution_count": null,
      "metadata": {
        "id": "gOJOE4QSloPb"
      },
      "outputs": [],
      "source": [
        "# Load the document, split it into chunks, embed each chunk and load it into the vector store.\n",
        "raw_documents = TextLoader('test.txt').load()\n",
        "text_splitter = CharacterTextSplitter(chunk_size=1000, chunk_overlap=0)\n",
        "documents = text_splitter.split_documents(raw_documents)\n",
        "db = FAISS.from_documents(documents, OpenAIEmbeddings())"
      ]
    },
    {
      "cell_type": "code",
      "execution_count": null,
      "metadata": {
        "id": "3cf4Y-PaloPb",
        "outputId": "6018ad0c-24d4-427f-b659-dad9626b5126"
      },
      "outputs": [
        {
          "data": {
            "text/plain": [
              "[(Document(page_content=\"Digital marketing encompasses a broad range of marketing activities that utilize digital channels to connect with customers. At its core, digital marketing aims to reach a targeted audience through various online and electronic means, including social media, email, search engines, and websites. Unlike traditional marketing methods, digital marketing offers unparalleled opportunities for businesses to engage with their audience in real-time, enabling personalized communication and immediate feedback. This real-time interaction not only enhances customer experience but also allows businesses to gather valuable data on consumer behaviors, preferences, and trends, facilitating more effective marketing strategies and campaigns.\\nThe rise of digital marketing can be attributed to the increasing reliance on the internet and digital devices by consumers. As more people spend time online, businesses have shifted their marketing efforts to where their audiences are. Digital marketing leverages this online presence, employing strategies such as search engine optimization (SEO), content marketing, pay-per-click (PPC) advertising, and social media marketing to improve visibility and attract potential customers. These strategies are designed to increase traffic to a company's online platforms, build brand awareness, and ultimately drive conversions and sales. The ability to measure the effectiveness of these strategies through analytics and metrics further underscores the advantage of digital marketing, enabling businesses to refine their approach and maximize return on investment (ROI).\", metadata={'source': 'test.txt'}),\n",
              "  0.8650827749276856)]"
            ]
          },
          "execution_count": 5,
          "metadata": {},
          "output_type": "execute_result"
        }
      ],
      "source": [
        "db.similarity_search_with_relevance_scores(\"digital marketing\", k=1)"
      ]
    },
    {
      "cell_type": "code",
      "execution_count": null,
      "metadata": {
        "id": "MhAcx8s_loPb"
      },
      "outputs": [],
      "source": [
        "# Adding on extra documents directly within LangChain:\n",
        "from langchain_core.documents import Document\n",
        "\n",
        "docs = [Document(page_content='James phoenix worked in digital marketing for 3 years.', metadata={'source': 'James Phoenix'}),\n",
        "        Document(page_content='Digital marketing is a growing industry.', metadata={'source': 'Wikipedia'}),\n",
        "        ]"
      ]
    },
    {
      "cell_type": "code",
      "execution_count": null,
      "metadata": {
        "id": "oRuUvEk3loPc",
        "outputId": "2f3c8cf0-5502-41df-d078-436f77fea3cc"
      },
      "outputs": [
        {
          "data": {
            "text/plain": [
              "{'source': 'James Phoenix'}"
            ]
          },
          "execution_count": 8,
          "metadata": {},
          "output_type": "execute_result"
        }
      ],
      "source": [
        "docs[0].metadata"
      ]
    },
    {
      "cell_type": "code",
      "execution_count": null,
      "metadata": {
        "id": "evU84M4AloPc",
        "outputId": "9b2f1ce9-7d10-495d-d3f4-47e2a699d491"
      },
      "outputs": [
        {
          "data": {
            "text/plain": [
              "{'source': 'Wikipedia'}"
            ]
          },
          "execution_count": 9,
          "metadata": {},
          "output_type": "execute_result"
        }
      ],
      "source": [
        "docs[1].metadata"
      ]
    },
    {
      "cell_type": "code",
      "execution_count": null,
      "metadata": {
        "id": "LxXpe7N4loPc",
        "outputId": "c94463e7-f2dc-4f07-fa43-a665a04a10f8"
      },
      "outputs": [
        {
          "data": {
            "text/plain": [
              "['db785879-a871-4707-9415-bcd650a6b267',\n",
              " '6c2a0003-5506-429c-b28b-06928e30880b']"
            ]
          },
          "execution_count": 10,
          "metadata": {},
          "output_type": "execute_result"
        }
      ],
      "source": [
        "db.add_documents(docs)"
      ]
    },
    {
      "cell_type": "code",
      "execution_count": null,
      "metadata": {
        "id": "klkhel6kloPc",
        "outputId": "b8da007a-d85c-449f-c251-b528f1635b83"
      },
      "outputs": [
        {
          "data": {
            "text/plain": [
              "[Document(page_content='James phoenix worked in digital marketing for 3 years.', metadata={'source': 'James Phoenix'})]"
            ]
          },
          "execution_count": 11,
          "metadata": {},
          "output_type": "execute_result"
        }
      ],
      "source": [
        "db.similarity_search(\"James\", k=1)"
      ]
    },
    {
      "cell_type": "markdown",
      "metadata": {
        "id": "MFsqGYZeloPc"
      },
      "source": [
        "---\n",
        "\n",
        "## Indexing Becomes Messy Without A Record Manager\n",
        "\n",
        "Without knowing which documents have been indexed, it is difficult to keep track of the documents that have been indexed. This is especially true when the documents are large and the indexing process is time-consuming.\n",
        "\n",
        "LangChain solves this with an [Indexing API](https://python.langchain.com/docs/modules/data_connection/indexing) that exposes several different methods to keep track of the documents that have been indexed."
      ]
    },
    {
      "cell_type": "code",
      "execution_count": null,
      "metadata": {
        "id": "ep_jUdthl5i-"
      },
      "outputs": [],
      "source": [
        "#RUN THIS NOTEBOOK LOCALLY WITH DOCKER for ElasticSearch:"
      ]
    },
    {
      "cell_type": "markdown",
      "metadata": {
        "id": "0jYgwhHXloPd"
      },
      "source": [
        "`docker run -p 9200:9200 -e \"discovery.type=single-node\" -e \"xpack.security.enabled=false\" -e \"xpack.security.http.ssl.enabled=false\" docker.elastic.co/elasticsearch/elasticsearch:8.9.0`"
      ]
    },
    {
      "cell_type": "code",
      "execution_count": null,
      "metadata": {
        "id": "gPsR3i6zloPd"
      },
      "outputs": [],
      "source": [
        "from langchain.indexes import SQLRecordManager, index\n",
        "from langchain_elasticsearch import ElasticsearchStore\n",
        "\n",
        "collection_name = \"test_index\"\n",
        "\n",
        "embedding = OpenAIEmbeddings()\n",
        "\n",
        "vectorstore = ElasticsearchStore(\n",
        "    es_url=\"http://localhost:9200\", index_name=\"test_index\", embedding=embedding\n",
        ")"
      ]
    },
    {
      "cell_type": "code",
      "execution_count": null,
      "metadata": {
        "id": "QqnWE2bCloPd"
      },
      "outputs": [],
      "source": [
        "namespace = f\"elasticsearch/{collection_name}\"\n",
        "record_manager = SQLRecordManager(\n",
        "    namespace, db_url=\"sqlite:///record_manager_cache.sql\"\n",
        ")\n",
        "record_manager.create_schema()"
      ]
    },
    {
      "cell_type": "code",
      "execution_count": null,
      "metadata": {
        "id": "gM8NctajloPd"
      },
      "outputs": [],
      "source": [
        "updated_docs = [\n",
        "    Document(\n",
        "        page_content=\"James phoenix worked in digital marketing for 7 years.\",\n",
        "        metadata={\"source\": \"James Phoenix\"},\n",
        "    ),\n",
        "\n",
        "]"
      ]
    },
    {
      "cell_type": "code",
      "execution_count": null,
      "metadata": {
        "id": "tDzrpVoWloPd"
      },
      "outputs": [],
      "source": [
        "def _clear():\n",
        "    \"\"\"Hacky helper method to clear content. See the `full` mode section to to understand why it works.\"\"\"\n",
        "    index([], record_manager, vectorstore, cleanup=\"full\", source_id_key=\"source\")"
      ]
    },
    {
      "cell_type": "code",
      "execution_count": null,
      "metadata": {
        "id": "kE52Q4YhloPd"
      },
      "outputs": [],
      "source": [
        "_clear()"
      ]
    },
    {
      "cell_type": "code",
      "execution_count": null,
      "metadata": {
        "id": "ZMhHtEAjloPd",
        "outputId": "b5c6c185-7610-4674-9212-7b03eb253327"
      },
      "outputs": [
        {
          "data": {
            "text/plain": [
              "[Document(page_content='James phoenix worked in digital marketing for 3 years.', metadata={'source': 'James Phoenix'}),\n",
              " Document(page_content='Digital marketing is a growing industry.', metadata={'source': 'Wikipedia'})]"
            ]
          },
          "execution_count": 23,
          "metadata": {},
          "output_type": "execute_result"
        }
      ],
      "source": [
        "docs"
      ]
    },
    {
      "cell_type": "code",
      "execution_count": null,
      "metadata": {
        "id": "45NOUksOloPd",
        "outputId": "61439584-871d-460f-baf9-2728a9e7225c"
      },
      "outputs": [
        {
          "data": {
            "text/plain": [
              "{'num_added': 0, 'num_updated': 0, 'num_skipped': 2, 'num_deleted': 0}"
            ]
          },
          "execution_count": 25,
          "metadata": {},
          "output_type": "execute_result"
        }
      ],
      "source": [
        "# Indexing all of the documents:\n",
        "index(\n",
        "    docs,\n",
        "    record_manager,\n",
        "    vectorstore,\n",
        "    cleanup=\"incremental\",\n",
        "    source_id_key=\"source\",\n",
        ")"
      ]
    },
    {
      "cell_type": "code",
      "execution_count": null,
      "metadata": {
        "id": "9XWp8_j0loPd",
        "outputId": "4dfb2c53-e97b-4621-b220-e2bffe146c47"
      },
      "outputs": [
        {
          "data": {
            "text/plain": [
              "{'num_added': 1, 'num_updated': 0, 'num_skipped': 0, 'num_deleted': 1}"
            ]
          },
          "execution_count": 26,
          "metadata": {},
          "output_type": "execute_result"
        }
      ],
      "source": [
        "# Updating a single document:\n",
        "index(\n",
        "    updated_docs,\n",
        "    record_manager,\n",
        "    vectorstore,\n",
        "    cleanup=\"incremental\",\n",
        "    source_id_key=\"source\",\n",
        ")"
      ]
    },
    {
      "cell_type": "code",
      "execution_count": null,
      "metadata": {
        "id": "rqVeo_PCloPd",
        "outputId": "e38b6588-2101-4070-c1ee-fbe5409c0b2f"
      },
      "outputs": [
        {
          "data": {
            "text/plain": [
              "{'num_added': 1, 'num_updated': 0, 'num_skipped': 0, 'num_deleted': 0}"
            ]
          },
          "execution_count": 27,
          "metadata": {},
          "output_type": "execute_result"
        }
      ],
      "source": [
        "# Adding on a new document:\n",
        "index(\n",
        "    [Document(page_content=\"Digital marketing is a growing industry.\", metadata={\"source\": \"Wikipedia - Digital Marketing\"})],\n",
        "    record_manager,\n",
        "    vectorstore,\n",
        "    cleanup=\"incremental\",\n",
        "    source_id_key=\"source\",\n",
        ")"
      ]
    },
    {
      "cell_type": "code",
      "execution_count": null,
      "metadata": {
        "id": "SkJAMf8_loPd",
        "outputId": "55fddef3-757a-4c2d-bceb-5f7dad1b24bf"
      },
      "outputs": [
        {
          "data": {
            "text/plain": [
              "{'num_added': 0, 'num_updated': 0, 'num_skipped': 1, 'num_deleted': 0}"
            ]
          },
          "execution_count": 28,
          "metadata": {},
          "output_type": "execute_result"
        }
      ],
      "source": [
        "# Skipping documents because the document hash is exactly the same:\n",
        "index(\n",
        "    [Document(page_content=\"Digital marketing is a growing industry.\", metadata={\"source\": \"Wikipedia - Digital Marketing\"})],\n",
        "    record_manager,\n",
        "    vectorstore,\n",
        "    cleanup=\"incremental\",\n",
        "    source_id_key=\"source\",\n",
        ")"
      ]
    },
    {
      "cell_type": "markdown",
      "metadata": {
        "id": "tNcPzyQTloPd"
      },
      "source": [
        "## There are 3 modes of using the Index API.\n"
      ]
    },
    {
      "cell_type": "markdown",
      "metadata": {
        "id": "sraGc-tvloPd"
      },
      "source": [
        "| Cleanup Mode | De-Duplicates Content | Parallelizable | Cleans Up Deleted Source Docs | Cleans Up Mutations of Source Docs and/or Derived Docs | Clean Up Timing      |\n",
        "|--------------|-----------------------|----------------|-------------------------------|--------------------------------------------------------|----------------------|\n",
        "| None         | ✅                     | ✅              | ❌                             | ❌                                                      | -                    |\n",
        "| Incremental  | ✅                     | ✅              | ❌                             | ✅                                                      | Continuously         |\n",
        "| Full         | ✅                     | ❌              | ✅                             | ✅                                                      | At end of indexing   |\n"
      ]
    },
    {
      "cell_type": "markdown",
      "metadata": {
        "id": "ippKAKajloPe"
      },
      "source": [
        "Read more here: https://python.langchain.com/docs/modules/data_connection/indexing"
      ]
    }
  ],
  "metadata": {
    "colab": {
      "provenance": []
    },
    "kernelspec": {
      "display_name": "base",
      "language": "python",
      "name": "python3"
    },
    "language_info": {
      "codemirror_mode": {
        "name": "ipython",
        "version": 3
      },
      "file_extension": ".py",
      "mimetype": "text/x-python",
      "name": "python",
      "nbconvert_exporter": "python",
      "pygments_lexer": "ipython3",
      "version": "3.9.13"
    }
  },
  "nbformat": 4,
  "nbformat_minor": 0
}
