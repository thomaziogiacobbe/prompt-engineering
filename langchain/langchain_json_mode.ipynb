{
  "cells": [
    {
      "cell_type": "code",
      "execution_count": null,
      "metadata": {
        "id": "I4j-6sIqBquw"
      },
      "outputs": [],
      "source": [
        "%pip install langchain langchain_openai --upgrade"
      ]
    },
    {
      "cell_type": "code",
      "execution_count": null,
      "metadata": {
        "id": "VZ00yQZ5Bqux"
      },
      "outputs": [],
      "source": [
        "import os\n",
        "\n",
        "os.environ[\"OPENAI_API_KEY\"] = \"API_KEY_HERE\""
      ]
    },
    {
      "cell_type": "code",
      "execution_count": null,
      "metadata": {
        "id": "7su2T8lDBquy"
      },
      "outputs": [],
      "source": [
        "import json\n",
        "from langchain_openai.chat_models import ChatOpenAI\n",
        "from langchain_core.messages import SystemMessage, HumanMessage"
      ]
    },
    {
      "cell_type": "code",
      "execution_count": null,
      "metadata": {
        "id": "ZomTGvBgBquy"
      },
      "outputs": [],
      "source": [
        "chat = ChatOpenAI(model=\"gpt-4-1106-preview\", model_kwargs={'response_format': {\"type\": \"json_object\"}})"
      ]
    },
    {
      "cell_type": "code",
      "execution_count": null,
      "metadata": {
        "id": "r69TBRSRBquy"
      },
      "outputs": [],
      "source": [
        "system_message = SystemMessage(\n",
        "    content='''I want you to extract the person name, age and a description from the following text.\n",
        "    Here is the JSON object, output:\n",
        "    {\n",
        "        \"name\": string,\n",
        "        \"age\": int,\n",
        "        \"description\": string\n",
        "    }\n",
        "    ''')\n",
        "\n",
        "user_message = HumanMessage(content='''John is 20 years old. He is a student at the University of California,\n",
        "                            Berkeley. He is a very smart student.''')"
      ]
    },
    {
      "cell_type": "code",
      "execution_count": null,
      "metadata": {
        "id": "Avh3ACdEBquy"
      },
      "outputs": [],
      "source": [
        "json_object = chat([\n",
        "    system_message,\n",
        "    user_message\n",
        "])"
      ]
    },
    {
      "cell_type": "code",
      "execution_count": null,
      "metadata": {
        "id": "JWRANI5aBquy",
        "outputId": "703799ee-ad57-4869-b2ca-183d5b0213de"
      },
      "outputs": [
        {
          "data": {
            "text/plain": [
              "AIMessage(content='{\\n    \"name\": \"John\",\\n    \"age\": 20,\\n    \"description\": \"He is a student at the University of California, Berkeley. He is a very smart student.\"\\n}')"
            ]
          },
          "execution_count": 8,
          "metadata": {},
          "output_type": "execute_result"
        }
      ],
      "source": [
        "json_object"
      ]
    },
    {
      "cell_type": "code",
      "execution_count": null,
      "metadata": {
        "id": "Eum9ectXBquz",
        "outputId": "4cfedff0-f06c-4ea7-d603-c18d462627e0"
      },
      "outputs": [
        {
          "name": "stdout",
          "output_type": "stream",
          "text": [
            "{'name': 'John', 'age': 20, 'description': 'He is a student at the University of California, Berkeley. He is a very smart student.'}\n"
          ]
        }
      ],
      "source": [
        "try:\n",
        "    json_object = json.loads(json_object.content)\n",
        "    print(json_object)\n",
        "except json.decoder.JSONDecodeError:\n",
        "    print(json_object.content)"
      ]
    },
    {
      "cell_type": "code",
      "execution_count": null,
      "metadata": {
        "id": "bn0s2bAPBquz",
        "outputId": "bc5e0e45-1903-49ad-ec99-67be883626cf"
      },
      "outputs": [
        {
          "data": {
            "text/plain": [
              "{'name': 'John',\n",
              " 'age': 20,\n",
              " 'description': 'He is a student at the University of California, Berkeley. He is a very smart student.'}"
            ]
          },
          "execution_count": 10,
          "metadata": {},
          "output_type": "execute_result"
        }
      ],
      "source": [
        "json_object"
      ]
    }
  ],
  "metadata": {
    "kernelspec": {
      "display_name": "base",
      "language": "python",
      "name": "python3"
    },
    "language_info": {
      "codemirror_mode": {
        "name": "ipython",
        "version": 3
      },
      "file_extension": ".py",
      "mimetype": "text/x-python",
      "name": "python",
      "nbconvert_exporter": "python",
      "pygments_lexer": "ipython3",
      "version": "3.9.13"
    },
    "colab": {
      "provenance": []
    }
  },
  "nbformat": 4,
  "nbformat_minor": 0
}